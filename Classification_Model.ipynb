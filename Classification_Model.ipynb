{
  "nbformat": 4,
  "nbformat_minor": 0,
  "metadata": {
    "colab": {
      "provenance": [],
      "gpuType": "T4"
    },
    "kernelspec": {
      "name": "python3",
      "display_name": "Python 3"
    },
    "language_info": {
      "name": "python"
    },
    "accelerator": "GPU"
  },
  "cells": [
    {
      "cell_type": "code",
      "execution_count": 1,
      "metadata": {
        "id": "gYWz_BysArij"
      },
      "outputs": [],
      "source": [
        "import numpy as np\n",
        "import pandas as pd\n",
        "import matplotlib.pyplot as plt\n",
        "import glob\n",
        "import os\n",
        "import cv2"
      ]
    },
    {
      "cell_type": "code",
      "source": [
        "# np_array_u = np.load(\"/content/3311.npy\")\n",
        "# np_array_l = np.load(\"/content/L3315.npy\")"
      ],
      "metadata": {
        "id": "PjBSFipJAuQV"
      },
      "execution_count": null,
      "outputs": []
    },
    {
      "cell_type": "code",
      "source": [
        "from google.colab import drive\n",
        "drive.mount('/content/drive')"
      ],
      "metadata": {
        "colab": {
          "base_uri": "https://localhost:8080/"
        },
        "id": "f5aIf3alwUj3",
        "outputId": "f749df0c-cb11-41eb-d166-6460d42e47d5"
      },
      "execution_count": 2,
      "outputs": [
        {
          "output_type": "stream",
          "name": "stdout",
          "text": [
            "Mounted at /content/drive\n"
          ]
        }
      ]
    },
    {
      "cell_type": "code",
      "source": [
        "# np_array_u"
      ],
      "metadata": {
        "id": "8hrlhCkICH8c"
      },
      "execution_count": null,
      "outputs": []
    },
    {
      "cell_type": "code",
      "source": [
        "# np_array_u.shape"
      ],
      "metadata": {
        "id": "qBqMHHVnCf1M"
      },
      "execution_count": null,
      "outputs": []
    },
    {
      "cell_type": "code",
      "source": [
        "# plt.imshow(np_array_u.reshape(409,-1))"
      ],
      "metadata": {
        "id": "qeOCjAsLCJg-"
      },
      "execution_count": null,
      "outputs": []
    },
    {
      "cell_type": "code",
      "source": [
        "path=\"/content/drive/MyDrive/waveform\""
      ],
      "metadata": {
        "id": "Mp0YM6xnzSqI"
      },
      "execution_count": 3,
      "outputs": []
    },
    {
      "cell_type": "code",
      "source": [
        "# plt.plot(np_array_u)\n",
        "# plt.plot(np_array_l)"
      ],
      "metadata": {
        "id": "XVsw63cTCbd2"
      },
      "execution_count": null,
      "outputs": []
    },
    {
      "cell_type": "code",
      "source": [
        "[200,409,1]"
      ],
      "metadata": {
        "colab": {
          "base_uri": "https://localhost:8080/"
        },
        "id": "yy0a1U-CHFX9",
        "outputId": "c961b9a2-ec0c-4c18-c53e-4d24cbfea71d"
      },
      "execution_count": 15,
      "outputs": [
        {
          "output_type": "execute_result",
          "data": {
            "text/plain": [
              "[200, 409, 1]"
            ]
          },
          "metadata": {},
          "execution_count": 15
        }
      ]
    },
    {
      "cell_type": "code",
      "source": [
        "path = r\"/content/drive/MyDrive/waveform\""
      ],
      "metadata": {
        "id": "FWpSwvT4bNB_"
      },
      "execution_count": 4,
      "outputs": []
    },
    {
      "cell_type": "code",
      "source": [],
      "metadata": {
        "id": "Zi3u9L0fL4Rw"
      },
      "execution_count": null,
      "outputs": []
    },
    {
      "cell_type": "code",
      "source": [],
      "metadata": {
        "id": "81l00kK_amGg"
      },
      "execution_count": null,
      "outputs": []
    },
    {
      "cell_type": "code",
      "source": [
        "unlensed_waveform = glob.glob(path+\"/*.npy\")"
      ],
      "metadata": {
        "id": "oEBGlfQzaoLm"
      },
      "execution_count": 5,
      "outputs": []
    },
    {
      "cell_type": "code",
      "source": [
        "lensed_waveform = []  # Initialize lists to store filenames\n",
        "unlensed_waveform = []\n",
        "\n",
        "for i in glob.glob(path + \"/L*.npy\"):\n",
        "    lensed_waveform.append(i)\n",
        "\n",
        "for i in glob.glob(path + \"/*.npy\"):\n",
        "    if not any(i == lwf for lwf in lensed_waveform):\n",
        "        unlensed_waveform.append(i)\n",
        "\n"
      ],
      "metadata": {
        "id": "ztIdEdhauCzp"
      },
      "execution_count": 6,
      "outputs": []
    },
    {
      "cell_type": "code",
      "source": [
        "len(lensed_waveform)\n"
      ],
      "metadata": {
        "colab": {
          "base_uri": "https://localhost:8080/"
        },
        "id": "r6g6yY6AvJw7",
        "outputId": "bb53c67d-b8ee-416c-e877-ba4fa83d6cff"
      },
      "execution_count": 7,
      "outputs": [
        {
          "output_type": "execute_result",
          "data": {
            "text/plain": [
              "4789"
            ]
          },
          "metadata": {},
          "execution_count": 7
        }
      ]
    },
    {
      "cell_type": "code",
      "source": [
        "len(unlensed_waveform)"
      ],
      "metadata": {
        "colab": {
          "base_uri": "https://localhost:8080/"
        },
        "id": "RppiDeAWa1O0",
        "outputId": "fbb84105-5072-4e8c-938e-eaad88ceaf83"
      },
      "execution_count": 8,
      "outputs": [
        {
          "output_type": "execute_result",
          "data": {
            "text/plain": [
              "4781"
            ]
          },
          "metadata": {},
          "execution_count": 8
        }
      ]
    },
    {
      "cell_type": "code",
      "source": [
        "type(lensed_waveform)\n",
        "plt.plot(np.load(lensed_waveform[9]))\n",
        "plt.plot(np.load(unlensed_waveform[9]))\n"
      ],
      "metadata": {
        "colab": {
          "base_uri": "https://localhost:8080/",
          "height": 447
        },
        "id": "FyQcE2XlvLaQ",
        "outputId": "789051d1-fc64-4b8c-c8f3-6b05bab36488"
      },
      "execution_count": 9,
      "outputs": [
        {
          "output_type": "execute_result",
          "data": {
            "text/plain": [
              "[<matplotlib.lines.Line2D at 0x7d545fb298d0>]"
            ]
          },
          "metadata": {},
          "execution_count": 9
        },
        {
          "output_type": "display_data",
          "data": {
            "text/plain": [
              "<Figure size 640x480 with 1 Axes>"
            ],
            "image/png": "[encoded data removed]"
          },
          "metadata": {}
        }
      ]
    },
    {
      "cell_type": "code",
      "source": [
        "lensed_waveform = [np.load(file) for file in lensed_waveform]\n",
        "unlensed_waveform = [np.load(file) for file in unlensed_waveform]"
      ],
      "metadata": {
        "id": "EinCU-Gd2GVy"
      },
      "execution_count": 10,
      "outputs": []
    },
    {
      "cell_type": "code",
      "source": [
        "plt.plot(lensed_waveform[9])\n",
        "plt.figure(figsize=(409, 1))\n",
        "plt.savefig('plot.png')\n",
        "plt.show()\n"
      ],
      "metadata": {
        "id": "osw6yxTs2puB",
        "colab": {
          "base_uri": "https://localhost:8080/",
          "height": 447
        },
        "outputId": "c51cc156-283d-41ea-f423-128da3c494d2"
      },
      "execution_count": 11,
      "outputs": [
        {
          "output_type": "display_data",
          "data": {
            "text/plain": [
              "<Figure size 640x480 with 1 Axes>"
            ],
            "image/png": "[encoded data removed]"
          },
          "metadata": {}
        },
        {
          "output_type": "display_data",
          "data": {
            "text/plain": [
              "<Figure size 40900x100 with 0 Axes>"
            ]
          },
          "metadata": {}
        }
      ]
    },
    {
      "cell_type": "code",
      "source": [
        "desired_shape = (409, 1)\n",
        "lensed_waveform = [np.resize(waveform, desired_shape) for waveform in lensed_waveform]\n",
        "unlensed_waveform = [np.resize(waveform, desired_shape) for waveform in unlensed_waveform]"
      ],
      "metadata": {
        "id": "hnjRynrH2KwF"
      },
      "execution_count": 12,
      "outputs": []
    },
    {
      "cell_type": "code",
      "source": [
        "plt.plot(lensed_waveform[9])"
      ],
      "metadata": {
        "id": "T_SwsGfO2dF1",
        "colab": {
          "base_uri": "https://localhost:8080/",
          "height": 447
        },
        "outputId": "11e04d41-80fb-4104-e7c7-cab7629936b2"
      },
      "execution_count": 13,
      "outputs": [
        {
          "output_type": "execute_result",
          "data": {
            "text/plain": [
              "[<matplotlib.lines.Line2D at 0x7d545ba7ea40>]"
            ]
          },
          "metadata": {},
          "execution_count": 13
        },
        {
          "output_type": "display_data",
          "data": {
            "text/plain": [
              "<Figure size 640x480 with 1 Axes>"
            ],
            "image/png": "[encoded data removed]"
          },
          "metadata": {}
        }
      ]
    },
    {
      "cell_type": "code",
      "source": [
        "(lensed_waveform[0].shape)"
      ],
      "metadata": {
        "id": "qHVGAJ0z5ry4",
        "colab": {
          "base_uri": "https://localhost:8080/"
        },
        "outputId": "6d9bcdc0-961a-46c6-b36e-d574dfba6052"
      },
      "execution_count": 14,
      "outputs": [
        {
          "output_type": "execute_result",
          "data": {
            "text/plain": [
              "(409, 1)"
            ]
          },
          "metadata": {},
          "execution_count": 14
        }
      ]
    },
    {
      "cell_type": "code",
      "source": [
        "# Created labels\n",
        "lensed_labels = np.ones(len(lensed_waveform))\n",
        "unlensed_labels = np.zeros(len(unlensed_waveform))\n"
      ],
      "metadata": {
        "id": "lhNLqPJYvnXY"
      },
      "execution_count": 15,
      "outputs": []
    },
    {
      "cell_type": "code",
      "source": [
        "# Combine data and labels\n",
        "\n",
        "from sklearn.model_selection import train_test_split\n",
        "X = np.concatenate([lensed_waveform, unlensed_waveform])\n",
        "y = np.concatenate([lensed_labels, unlensed_labels])\n",
        "\n",
        "# Split data into training and testing sets\n",
        "# from sklearn.model_selection import train_test_split\n",
        "\n",
        "# Assuming your data is in X and y variables\n",
        "# X represents the features, and y represents the target variable\n",
        "\n",
        "# Split the data into training and testing sets (80% training, 20% test+validation)\n",
        "X_train, X_test_val, y_train, y_test_val = train_test_split(X, y, test_size=0.2, random_state=42)\n",
        "\n",
        "# Further split the test+validation set into test and validation sets (50% test, 50% validation)\n",
        "X_test, X_val, y_test, y_val = train_test_split(X_test_val, y_test_val, test_size=0.5, random_state=42)\n"
      ],
      "metadata": {
        "id": "YX0d8VWL2JuE"
      },
      "execution_count": 42,
      "outputs": []
    },
    {
      "cell_type": "code",
      "source": [
        "y_train.shape"
      ],
      "metadata": {
        "colab": {
          "base_uri": "https://localhost:8080/"
        },
        "id": "gu9YGf5y8luK",
        "outputId": "756ddb4c-e929-4df5-cd8a-a7342b34e43d"
      },
      "execution_count": 43,
      "outputs": [
        {
          "output_type": "execute_result",
          "data": {
            "text/plain": [
              "(7656,)"
            ]
          },
          "metadata": {},
          "execution_count": 43
        }
      ]
    },
    {
      "cell_type": "code",
      "source": [
        "y_val.shape\n",
        "X_train.shape"
      ],
      "metadata": {
        "colab": {
          "base_uri": "https://localhost:8080/"
        },
        "id": "gYcJ_dwTEJhK",
        "outputId": "8303351c-fb7a-4c86-fd97-221c2a7276a9"
      },
      "execution_count": 46,
      "outputs": [
        {
          "output_type": "execute_result",
          "data": {
            "text/plain": [
              "(7656, 409, 1)"
            ]
          },
          "metadata": {},
          "execution_count": 46
        }
      ]
    },
    {
      "cell_type": "code",
      "source": [
        "plt.plot(X[9])\n",
        "print(y[9])"
      ],
      "metadata": {
        "id": "Bj0lvKtL8lEt",
        "colab": {
          "base_uri": "https://localhost:8080/",
          "height": 447
        },
        "outputId": "e65947d0-d3d6-4f97-87f0-5f82eb5bc7e2"
      },
      "execution_count": 17,
      "outputs": [
        {
          "output_type": "stream",
          "name": "stdout",
          "text": [
            "1.0\n"
          ]
        },
        {
          "output_type": "display_data",
          "data": {
            "text/plain": [
              "<Figure size 640x480 with 1 Axes>"
            ],
            "image/png": "[encoded data removed]"
          },
          "metadata": {}
        }
      ]
    },
    {
      "cell_type": "code",
      "source": [
        "plt.plot(X_train[3])\n"
      ],
      "metadata": {
        "id": "CYEAE6x089WO",
        "colab": {
          "base_uri": "https://localhost:8080/",
          "height": 447
        },
        "outputId": "a62b3fe6-d605-4863-ab7b-bbd7b3a96963"
      },
      "execution_count": 18,
      "outputs": [
        {
          "output_type": "execute_result",
          "data": {
            "text/plain": [
              "[<matplotlib.lines.Line2D at 0x7d549a5df1c0>]"
            ]
          },
          "metadata": {},
          "execution_count": 18
        },
        {
          "output_type": "display_data",
          "data": {
            "text/plain": [
              "<Figure size 640x480 with 1 Axes>"
            ],
            "image/png": "[encoded data removed]"
          },
          "metadata": {}
        }
      ]
    },
    {
      "cell_type": "code",
      "source": [
        "import tensorflow as tf\n",
        "from tensorflow.keras.applications import MobileNetV2\n",
        "from tensorflow.keras.applications.mobilenet_v2 import preprocess_input\n"
      ],
      "metadata": {
        "id": "11iygXoY89Z2"
      },
      "execution_count": 19,
      "outputs": []
    },
    {
      "cell_type": "code",
      "source": [
        "model = MobileNetV2(weights='imagenet', include_top=False)  # Load the pre-trained model without the top classification layers\n"
      ],
      "metadata": {
        "id": "GR7ygAek89d8",
        "colab": {
          "base_uri": "https://localhost:8080/"
        },
        "outputId": "fae8ee9e-eea8-4235-d0d8-d24cc6cffaf6"
      },
      "execution_count": 20,
      "outputs": [
        {
          "output_type": "stream",
          "name": "stderr",
          "text": [
            "WARNING:tensorflow:`input_shape` is undefined or non-square, or `rows` is not in [96, 128, 160, 192, 224]. Weights for input shape (224, 224) will be loaded as the default.\n"
          ]
        },
        {
          "output_type": "stream",
          "name": "stdout",
          "text": [
            "Downloading data from https://storage.googleapis.com/tensorflow/keras-applications/mobilenet_v2/mobilenet_v2_weights_tf_dim_ordering_tf_kernels_1.0_224_no_top.h5\n",
            "9406464/9406464 [==============================] - 0s 0us/step\n"
          ]
        }
      ]
    },
    {
      "cell_type": "code",
      "source": [],
      "metadata": {
        "id": "RMLh65-qEVFE"
      },
      "execution_count": 41,
      "outputs": []
    },
    {
      "cell_type": "code",
      "source": [
        "from tensorflow.keras import layers, models, regularizers\n",
        "from tensorflow.keras.optimizers import Adam\n",
        "from tensorflow.keras.callbacks import ReduceLROnPlateau\n",
        "from tensorflow.keras.optimizers import SGD\n",
        "\n",
        "model = models.Sequential()\n",
        "\n",
        "\n",
        "model.add(layers.Input(shape=(409, 1)))\n",
        "\n",
        "model.add(layers.Conv1D(64, 3, activation='relu', padding='same', kernel_regularizer=regularizers.l2(0.001)))\n",
        "model.add(layers.MaxPooling1D(2))\n",
        "model.add(layers.Dropout(0.3))\n",
        "\n",
        "model.add(layers.Conv1D(128, 3, activation='relu', padding='same', kernel_regularizer=regularizers.l2(0.001)))\n",
        "model.add(layers.MaxPooling1D(2))\n",
        "model.add(layers.Dropout(0.4))\n",
        "\n",
        "model.add(layers.Conv1D(256, 3, activation='relu', padding='same', kernel_regularizer=regularizers.l2(0.001)))\n",
        "model.add(layers.MaxPooling1D(2))\n",
        "model.add(layers.Dropout(0.5))\n",
        "\n",
        "model.add(layers.Flatten())\n",
        "\n",
        "model.add(layers.Dense(256, activation='relu', kernel_regularizer=regularizers.l2(0.001)))\n",
        "model.add(layers.Dropout(0.5))\n",
        "\n",
        "model.add(layers.Dense(128, activation='relu', kernel_regularizer=regularizers.l2(0.001)))\n",
        "model.add(layers.Dropout(0.5))\n",
        "\n",
        "model.add(layers.Dense(1, activation='sigmoid'))\n",
        "\n",
        "\n",
        "reduce_lr = ReduceLROnPlateau(monitor='val_loss', factor=0.2, patience=3, min_lr=0.00001)\n",
        "\n",
        "model.compile(optimizer=SGD(lr=0.0001), loss='binary_crossentropy', metrics=['accuracy'])\n",
        "\n",
        "test_loss, test_accuracy = model.evaluate(X_test, y_test)\n",
        "print(f\"Test accuracy: {test_accuracy}\")"
      ],
      "metadata": {
        "id": "JN7ma4jw-ijd",
        "colab": {
          "base_uri": "https://localhost:8080/"
        },
        "outputId": "84a82ca2-7069-40d7-ab3e-39da69e9f217"
      },
      "execution_count": 22,
      "outputs": [
        {
          "output_type": "stream",
          "name": "stderr",
          "text": [
            "WARNING:absl:`lr` is deprecated in Keras optimizer, please use `learning_rate` or use the legacy optimizer, e.g.,tf.keras.optimizers.legacy.SGD.\n"
          ]
        },
        {
          "output_type": "stream",
          "name": "stdout",
          "text": [
            "60/60 [==============================] - 8s 5ms/step - loss: 1.6237 - accuracy: 0.5167\n",
            "Test accuracy: 0.5167189240455627\n"
          ]
        }
      ]
    },
    {
      "cell_type": "code",
      "source": [],
      "metadata": {
        "id": "NweJ183Aa3T8"
      },
      "execution_count": null,
      "outputs": []
    },
    {
      "cell_type": "markdown",
      "source": [
        "# **Test Accuracy: 80%**"
      ],
      "metadata": {
        "id": "DwuZexqbCvs0"
      }
    },
    {
      "cell_type": "code",
      "source": [
        "from keras import models, layers\n",
        "from keras.optimizers import SGD\n",
        "\n",
        "# Assuming X_train, X_val, y_train, y_val, X_test, y_test are already defined\n",
        "\n",
        "model = models.Sequential()\n",
        "model.add(layers.Input(shape=(409, 1)))\n",
        "model.add(layers.Conv1D(filters=256, kernel_size=2, activation='relu'))\n",
        "model.add(layers.Dropout(0.2))\n",
        "model.add(layers.Conv1D(filters=256, kernel_size=2, activation='relu'))\n",
        "model.add(layers.Dropout(0.2))\n",
        "model.add(layers.Conv1D(filters=128, kernel_size=2, activation='relu'))\n",
        "model.add(layers.Dropout(0.2))\n",
        "model.add(layers.Conv1D(filters=128, kernel_size=2, activation='relu'))\n",
        "model.add(layers.Dropout(0.2))\n",
        "model.add(layers.Conv1D(filters=64, kernel_size=2, activation='relu'))\n",
        "model.add(layers.Dropout(0.2))\n",
        "model.add(layers.Conv1D(filters=64, kernel_size=2, activation='relu'))\n",
        "model.add(layers.Dropout(0.2))\n",
        "model.add(layers.Conv1D(filters=64, kernel_size=2, activation='relu'))\n",
        "model.add(layers.Flatten())\n",
        "model.add(layers.Dense(32, activation='relu'))\n",
        "model.add(layers.Dense(7656,))\n",
        "model.add(layers.Dense(1, activation='sigmoid'))\n",
        "\n",
        "model.compile(optimizer=SGD(lr=0.0001), loss='binary_crossentropy', metrics=['accuracy'])\n",
        "history = model.fit(X_train, y_train, epochs=10, validation_data=(X_val, y_val))\n",
        "test_loss, test_accuracy = model.evaluate(X_test, y_test)\n",
        "print(f\"Test accuracy: {test_accuracy}\")\n"
      ],
      "metadata": {
        "id": "01WWANRM-hEC",
        "colab": {
          "base_uri": "https://localhost:8080/"
        },
        "outputId": "2c50bbf8-2287-43dd-ebb0-37287703def2"
      },
      "execution_count": 47,
      "outputs": [
        {
          "output_type": "stream",
          "name": "stderr",
          "text": [
            "WARNING:absl:`lr` is deprecated in Keras optimizer, please use `learning_rate` or use the legacy optimizer, e.g.,tf.keras.optimizers.legacy.SGD.\n"
          ]
        },
        {
          "output_type": "stream",
          "name": "stdout",
          "text": [
            "Epoch 1/10\n",
            "240/240 [==============================] - 9s 22ms/step - loss: 0.6932 - accuracy: 0.5033 - val_loss: 0.6931 - val_accuracy: 0.5005\n",
            "Epoch 2/10\n",
            "240/240 [==============================] - 4s 16ms/step - loss: 0.6931 - accuracy: 0.5037 - val_loss: 0.6930 - val_accuracy: 0.5005\n",
            "Epoch 3/10\n",
            "240/240 [==============================] - 4s 16ms/step - loss: 0.6929 - accuracy: 0.5218 - val_loss: 0.6928 - val_accuracy: 0.5005\n",
            "Epoch 4/10\n",
            "240/240 [==============================] - 4s 16ms/step - loss: 0.6927 - accuracy: 0.5188 - val_loss: 0.6926 - val_accuracy: 0.5308\n",
            "Epoch 5/10\n",
            "240/240 [==============================] - 4s 18ms/step - loss: 0.6923 - accuracy: 0.5481 - val_loss: 0.6924 - val_accuracy: 0.4995\n",
            "Epoch 6/10\n",
            "240/240 [==============================] - 4s 16ms/step - loss: 0.6916 - accuracy: 0.5667 - val_loss: 0.6917 - val_accuracy: 0.5110\n",
            "Epoch 7/10\n",
            "240/240 [==============================] - 4s 16ms/step - loss: 0.6903 - accuracy: 0.5997 - val_loss: 0.6902 - val_accuracy: 0.5507\n",
            "Epoch 8/10\n",
            "240/240 [==============================] - 4s 17ms/step - loss: 0.6871 - accuracy: 0.6109 - val_loss: 0.6858 - val_accuracy: 0.6980\n",
            "Epoch 9/10\n",
            "240/240 [==============================] - 4s 17ms/step - loss: 0.6763 - accuracy: 0.5960 - val_loss: 0.6647 - val_accuracy: 0.5517\n",
            "Epoch 10/10\n",
            "240/240 [==============================] - 4s 16ms/step - loss: 0.6268 - accuracy: 0.6633 - val_loss: 0.5930 - val_accuracy: 0.7492\n",
            "30/30 [==============================] - 0s 8ms/step - loss: 0.5988 - accuracy: 0.7189\n",
            "Test accuracy: 0.7189132571220398\n"
          ]
        }
      ]
    },
    {
      "cell_type": "markdown",
      "source": [
        "# **Test Accuracy: 88%**"
      ],
      "metadata": {
        "id": "lDSPGPuGClTo"
      }
    },
    {
      "cell_type": "code",
      "source": [
        "model = models.Sequential()\n",
        "model.add(layers.Input(shape=(409, 1)))\n",
        "model.add(layers.Conv1D(filters=256, kernel_size=2, activation='relu'))\n",
        "model.add(layers.Dropout(0.2))\n",
        "model.add(layers.Conv1D(filters=256, kernel_size=2, activation='relu'))\n",
        "model.add(layers.Dropout(0.2))\n",
        "model.add(layers.Conv1D(filters=128, kernel_size=2, activation='relu'))\n",
        "model.add(layers.Dropout(0.2))\n",
        "model.add(layers.Conv1D(filters=128, kernel_size=2, activation='relu'))\n",
        "model.add(layers.Dropout(0.2))\n",
        "model.add(layers.Conv1D(filters=64, kernel_size=2, activation='relu'))\n",
        "model.add(layers.Dropout(0.2))\n",
        "model.add(layers.Conv1D(filters=64, kernel_size=2, activation='relu'))\n",
        "model.add(layers.Dropout(0.2))\n",
        "model.add(layers.Conv1D(filters=64, kernel_size=2, activation='relu'))\n",
        "model.add(layers.Flatten())\n",
        "model.add(layers.Dense(32, activation='relu'))\n",
        "model.add(layers.Dense(7656,))\n",
        "model.add(layers.Dense(1, activation='sigmoid'))\n",
        "\n",
        "model.compile(optimizer=Adam(lr=0.00001), loss='binary_crossentropy', metrics=['accuracy'])\n",
        "model.fit(X_train, y_train, epochs=10)\n",
        "test_loss, test_accuracy = model.evaluate(X_test, y_test)\n",
        "print(f\"Test accuracy: {test_accuracy}\")"
      ],
      "metadata": {
        "colab": {
          "base_uri": "https://localhost:8080/"
        },
        "id": "roNla3Oq8Qqm",
        "outputId": "28de7ee6-ac19-4cc4-bcba-ba8e9718ca2c"
      },
      "execution_count": 35,
      "outputs": [
        {
          "output_type": "stream",
          "name": "stderr",
          "text": [
            "WARNING:absl:`lr` is deprecated in Keras optimizer, please use `learning_rate` or use the legacy optimizer, e.g.,tf.keras.optimizers.legacy.Adam.\n"
          ]
        },
        {
          "output_type": "stream",
          "name": "stdout",
          "text": [
            "Epoch 1/10\n",
            "240/240 [==============================] - 8s 17ms/step - loss: 0.4958 - accuracy: 0.7291\n",
            "Epoch 2/10\n",
            "240/240 [==============================] - 4s 17ms/step - loss: 0.3350 - accuracy: 0.8403\n",
            "Epoch 3/10\n",
            "240/240 [==============================] - 4s 16ms/step - loss: 0.2977 - accuracy: 0.8588\n",
            "Epoch 4/10\n",
            "240/240 [==============================] - 4s 15ms/step - loss: 0.2950 - accuracy: 0.8601\n",
            "Epoch 5/10\n",
            "240/240 [==============================] - 4s 15ms/step - loss: 0.2772 - accuracy: 0.8682\n",
            "Epoch 6/10\n",
            "240/240 [==============================] - 4s 15ms/step - loss: 0.2566 - accuracy: 0.8762\n",
            "Epoch 7/10\n",
            "240/240 [==============================] - 4s 16ms/step - loss: 0.2510 - accuracy: 0.8759\n",
            "Epoch 8/10\n",
            "240/240 [==============================] - 4s 15ms/step - loss: 0.2467 - accuracy: 0.8849\n",
            "Epoch 9/10\n",
            "240/240 [==============================] - 4s 15ms/step - loss: 0.2407 - accuracy: 0.8847\n",
            "Epoch 10/10\n",
            "240/240 [==============================] - 4s 16ms/step - loss: 0.2221 - accuracy: 0.8921\n",
            "60/60 [==============================] - 1s 6ms/step - loss: 0.2443 - accuracy: 0.8824\n",
            "Test accuracy: 0.8824451565742493\n"
          ]
        }
      ]
    },
    {
      "cell_type": "markdown",
      "source": [
        "# **Test Accuracy: 91%**"
      ],
      "metadata": {
        "id": "NJYm9zOECRbT"
      }
    },
    {
      "cell_type": "code",
      "source": [
        "model = models.Sequential()\n",
        "model.add(layers.Input(shape=(409, 1)))\n",
        "model.add(layers.Conv1D(filters=256, kernel_size=2, activation='relu'))\n",
        "model.add(layers.Dropout(0.2))\n",
        "model.add(layers.Conv1D(filters=256, kernel_size=2, activation='relu'))\n",
        "model.add(layers.Dropout(0.2))\n",
        "model.add(layers.Conv1D(filters=128, kernel_size=2, activation='relu'))\n",
        "model.add(layers.Dropout(0.2))\n",
        "model.add(layers.Conv1D(filters=128, kernel_size=2, activation='relu'))\n",
        "model.add(layers.Dropout(0.2))\n",
        "model.add(layers.Conv1D(filters=64, kernel_size=2, activation='relu'))\n",
        "model.add(layers.Dropout(0.2))\n",
        "model.add(layers.Conv1D(filters=64, kernel_size=2, activation='relu'))\n",
        "model.add(layers.Dropout(0.2))\n",
        "model.add(layers.Conv1D(filters=64, kernel_size=2, activation='relu'))\n",
        "model.add(layers.Flatten())\n",
        "model.add(layers.Dense(32, activation='relu'))\n",
        "model.add(layers.Dense(7656,))\n",
        "model.add(layers.Dense(1, activation='sigmoid'))\n",
        "\n",
        "model.compile(optimizer=Adam(lr=0.00001), loss='binary_crossentropy', metrics=['accuracy'])\n",
        "model.fit(X_train, y_train, epochs=20)\n",
        "test_loss, test_accuracy = model.evaluate(X_test, y_test)\n",
        "print(f\"Test accuracy: {test_accuracy}\")"
      ],
      "metadata": {
        "id": "ecLSxNyPbYVE",
        "colab": {
          "base_uri": "https://localhost:8080/"
        },
        "outputId": "3e6326ca-ae22-4ad3-da1a-c4cbe3b3ddfa"
      },
      "execution_count": 38,
      "outputs": [
        {
          "output_type": "stream",
          "name": "stderr",
          "text": [
            "WARNING:absl:`lr` is deprecated in Keras optimizer, please use `learning_rate` or use the legacy optimizer, e.g.,tf.keras.optimizers.legacy.Adam.\n"
          ]
        },
        {
          "output_type": "stream",
          "name": "stdout",
          "text": [
            "Epoch 1/20\n",
            "240/240 [==============================] - 6s 16ms/step - loss: 0.4647 - accuracy: 0.7577\n",
            "Epoch 2/20\n",
            "240/240 [==============================] - 4s 16ms/step - loss: 0.3190 - accuracy: 0.8448\n",
            "Epoch 3/20\n",
            "240/240 [==============================] - 4s 15ms/step - loss: 0.2956 - accuracy: 0.8550\n",
            "Epoch 4/20\n",
            "240/240 [==============================] - 4s 15ms/step - loss: 0.2981 - accuracy: 0.8553\n",
            "Epoch 5/20\n",
            "240/240 [==============================] - 4s 16ms/step - loss: 0.2939 - accuracy: 0.8563\n",
            "Epoch 6/20\n",
            "240/240 [==============================] - 4s 16ms/step - loss: 0.2900 - accuracy: 0.8571\n",
            "Epoch 7/20\n",
            "240/240 [==============================] - 4s 15ms/step - loss: 0.2737 - accuracy: 0.8694\n",
            "Epoch 8/20\n",
            "240/240 [==============================] - 4s 15ms/step - loss: 0.2567 - accuracy: 0.8772\n",
            "Epoch 9/20\n",
            "240/240 [==============================] - 4s 17ms/step - loss: 0.2572 - accuracy: 0.8794\n",
            "Epoch 10/20\n",
            "240/240 [==============================] - 4s 16ms/step - loss: 0.2352 - accuracy: 0.8883\n",
            "Epoch 11/20\n",
            "240/240 [==============================] - 4s 15ms/step - loss: 0.2298 - accuracy: 0.8920\n",
            "Epoch 12/20\n",
            "240/240 [==============================] - 4s 16ms/step - loss: 0.2279 - accuracy: 0.8937\n",
            "Epoch 13/20\n",
            "240/240 [==============================] - 4s 17ms/step - loss: 0.2176 - accuracy: 0.8947\n",
            "Epoch 14/20\n",
            "240/240 [==============================] - 4s 15ms/step - loss: 0.2092 - accuracy: 0.9006\n",
            "Epoch 15/20\n",
            "240/240 [==============================] - 4s 15ms/step - loss: 0.2030 - accuracy: 0.9006\n",
            "Epoch 16/20\n",
            "240/240 [==============================] - 4s 16ms/step - loss: 0.2036 - accuracy: 0.9019\n",
            "Epoch 17/20\n",
            "240/240 [==============================] - 4s 16ms/step - loss: 0.2108 - accuracy: 0.8999\n",
            "Epoch 18/20\n",
            "240/240 [==============================] - 4s 15ms/step - loss: 0.1805 - accuracy: 0.9137\n",
            "Epoch 19/20\n",
            "240/240 [==============================] - 4s 15ms/step - loss: 0.1921 - accuracy: 0.9083\n",
            "Epoch 20/20\n",
            "240/240 [==============================] - 4s 17ms/step - loss: 0.1883 - accuracy: 0.9078\n",
            "60/60 [==============================] - 1s 7ms/step - loss: 0.1663 - accuracy: 0.9148\n",
            "Test accuracy: 0.9148380160331726\n"
          ]
        }
      ]
    },
    {
      "cell_type": "code",
      "source": [
        "model.save"
      ],
      "metadata": {
        "colab": {
          "base_uri": "https://localhost:8080/"
        },
        "id": "Jsa4iWKF_bA2",
        "outputId": "e7ccdd1a-46ee-4bad-ee2c-ed17705adb99"
      },
      "execution_count": 41,
      "outputs": [
        {
          "output_type": "execute_result",
          "data": {
            "text/plain": [
              "<bound method Model.save of <keras.src.engine.sequential.Sequential object at 0x7d535c0b9c00>>"
            ]
          },
          "metadata": {},
          "execution_count": 41
        }
      ]
    },
    {
      "cell_type": "markdown",
      "source": [
        "## Accuracy:90%\n"
      ],
      "metadata": {
        "id": "AsXCQijiCB7x"
      }
    },
    {
      "cell_type": "code",
      "source": [
        "model = models.Sequential()\n",
        "model.add(layers.Input(shape=(409, 1)))\n",
        "model.add(layers.Conv1D(filters=256, kernel_size=2, activation='relu'))\n",
        "model.add(layers.Dropout(0.2))\n",
        "model.add(layers.Conv1D(filters=256, kernel_size=2, activation='relu'))\n",
        "model.add(layers.Dropout(0.2))\n",
        "model.add(layers.Conv1D(filters=128, kernel_size=2, activation='relu'))\n",
        "model.add(layers.Dropout(0.2))\n",
        "model.add(layers.Conv1D(filters=128, kernel_size=2, activation='relu'))\n",
        "model.add(layers.Dropout(0.2))\n",
        "model.add(layers.Conv1D(filters=64, kernel_size=2, activation='relu'))\n",
        "model.add(layers.Dropout(0.2))\n",
        "model.add(layers.Conv1D(filters=64, kernel_size=2, activation='relu'))\n",
        "model.add(layers.Dropout(0.2))\n",
        "model.add(layers.Conv1D(filters=64, kernel_size=2, activation='relu'))\n",
        "model.add(layers.Flatten())\n",
        "model.add(layers.Dense(32, activation='relu'))\n",
        "model.add(layers.Dense(7656,))\n",
        "model.add(layers.Dense(1, activation='sigmoid'))\n",
        "\n",
        "model.compile(optimizer=Adam(lr=0.00001), loss='binary_crossentropy', metrics=['accuracy'])\n",
        "model.fit(X_train, y_train, epochs=30)\n",
        "test_loss, test_accuracy = model.evaluate(X_test, y_test)\n",
        "print(f\"Test accuracy: {test_accuracy}\")\n"
      ],
      "metadata": {
        "id": "ApLxcYOVbkFI"
      },
      "execution_count": null,
      "outputs": []
    },
    {
      "cell_type": "markdown",
      "source": [
        "#Test Accuracy: 94.35%\n",
        "#(using Validation)"
      ],
      "metadata": {
        "id": "7Ir6AcfBGnSX"
      }
    },
    {
      "cell_type": "code",
      "source": [
        "from keras import models, layers\n",
        "from keras.optimizers import SGD\n",
        "\n",
        "# Assuming X_train, X_val, y_train, y_val, X_test, y_test are already defined\n",
        "\n",
        "model = models.Sequential()\n",
        "model.add(layers.Input(shape=(409, 1)))\n",
        "model.add(layers.Conv1D(filters=256, kernel_size=2, activation='relu'))\n",
        "model.add(layers.Dropout(0.2))\n",
        "model.add(layers.Conv1D(filters=256, kernel_size=2, activation='relu'))\n",
        "model.add(layers.Dropout(0.2))\n",
        "model.add(layers.Conv1D(filters=128, kernel_size=2, activation='relu'))\n",
        "model.add(layers.Dropout(0.2))\n",
        "model.add(layers.Conv1D(filters=128, kernel_size=2, activation='relu'))\n",
        "model.add(layers.Dropout(0.2))\n",
        "model.add(layers.Conv1D(filters=64, kernel_size=2, activation='relu'))\n",
        "model.add(layers.Dropout(0.2))\n",
        "model.add(layers.Conv1D(filters=64, kernel_size=2, activation='relu'))\n",
        "model.add(layers.Dropout(0.2))\n",
        "model.add(layers.Conv1D(filters=64, kernel_size=2, activation='relu'))\n",
        "model.add(layers.Flatten())\n",
        "model.add(layers.Dense(32, activation='relu'))\n",
        "model.add(layers.Dense(7656,))\n",
        "model.add(layers.Dense(1, activation='sigmoid'))\n",
        "\n",
        "model.compile(optimizer=Adam(lr=0.00001), loss='binary_crossentropy', metrics=['accuracy'])\n",
        "history = model.fit(X_train, y_train, epochs=30, validation_data=(X_val, y_val))\n",
        "test_loss, test_accuracy = model.evaluate(X_test, y_test)\n",
        "print(f\"Test accuracy: {test_accuracy}\")\n"
      ],
      "metadata": {
        "colab": {
          "base_uri": "https://localhost:8080/"
        },
        "id": "PX9zH6IeFoM1",
        "outputId": "35de3297-be76-4c3b-9722-095fffd67678"
      },
      "execution_count": 48,
      "outputs": [
        {
          "output_type": "stream",
          "name": "stderr",
          "text": [
            "WARNING:absl:`lr` is deprecated in Keras optimizer, please use `learning_rate` or use the legacy optimizer, e.g.,tf.keras.optimizers.legacy.Adam.\n"
          ]
        },
        {
          "output_type": "stream",
          "name": "stdout",
          "text": [
            "Epoch 1/30\n",
            "240/240 [==============================] - 8s 17ms/step - loss: 0.4533 - accuracy: 0.7781 - val_loss: 0.4612 - val_accuracy: 0.7806\n",
            "Epoch 2/30\n",
            "240/240 [==============================] - 4s 17ms/step - loss: 0.3170 - accuracy: 0.8473 - val_loss: 0.2753 - val_accuracy: 0.8673\n",
            "Epoch 3/30\n",
            "240/240 [==============================] - 4s 17ms/step - loss: 0.2684 - accuracy: 0.8703 - val_loss: 0.3142 - val_accuracy: 0.8349\n",
            "Epoch 4/30\n",
            "240/240 [==============================] - 4s 16ms/step - loss: 0.2705 - accuracy: 0.8678 - val_loss: 0.2356 - val_accuracy: 0.8798\n",
            "Epoch 5/30\n",
            "240/240 [==============================] - 4s 16ms/step - loss: 0.2278 - accuracy: 0.8865 - val_loss: 0.2099 - val_accuracy: 0.8924\n",
            "Epoch 6/30\n",
            "240/240 [==============================] - 4s 17ms/step - loss: 0.2700 - accuracy: 0.8706 - val_loss: 0.2461 - val_accuracy: 0.8725\n",
            "Epoch 7/30\n",
            "240/240 [==============================] - 4s 16ms/step - loss: 0.2322 - accuracy: 0.8871 - val_loss: 0.2125 - val_accuracy: 0.8715\n",
            "Epoch 8/30\n",
            "240/240 [==============================] - 4s 16ms/step - loss: 0.2245 - accuracy: 0.8916 - val_loss: 0.2028 - val_accuracy: 0.9018\n",
            "Epoch 9/30\n",
            "240/240 [==============================] - 4s 17ms/step - loss: 0.2170 - accuracy: 0.8942 - val_loss: 0.1719 - val_accuracy: 0.9289\n",
            "Epoch 10/30\n",
            "240/240 [==============================] - 4s 17ms/step - loss: 0.2099 - accuracy: 0.8985 - val_loss: 0.1949 - val_accuracy: 0.9049\n",
            "Epoch 11/30\n",
            "240/240 [==============================] - 4s 16ms/step - loss: 0.2032 - accuracy: 0.9054 - val_loss: 0.2099 - val_accuracy: 0.9091\n",
            "Epoch 12/30\n",
            "240/240 [==============================] - 4s 16ms/step - loss: 0.2224 - accuracy: 0.8992 - val_loss: 0.1719 - val_accuracy: 0.9101\n",
            "Epoch 13/30\n",
            "240/240 [==============================] - 5s 20ms/step - loss: 0.1749 - accuracy: 0.9147 - val_loss: 0.1424 - val_accuracy: 0.9310\n",
            "Epoch 14/30\n",
            "240/240 [==============================] - 4s 16ms/step - loss: 0.2188 - accuracy: 0.8998 - val_loss: 0.2009 - val_accuracy: 0.9070\n",
            "Epoch 15/30\n",
            "240/240 [==============================] - 4s 16ms/step - loss: 0.2217 - accuracy: 0.8998 - val_loss: 0.1843 - val_accuracy: 0.9154\n",
            "Epoch 16/30\n",
            "240/240 [==============================] - 4s 18ms/step - loss: 0.1777 - accuracy: 0.9154 - val_loss: 0.1714 - val_accuracy: 0.9164\n",
            "Epoch 17/30\n",
            "240/240 [==============================] - 4s 17ms/step - loss: 0.1678 - accuracy: 0.9232 - val_loss: 0.1673 - val_accuracy: 0.9164\n",
            "Epoch 18/30\n",
            "240/240 [==============================] - 4s 16ms/step - loss: 0.1521 - accuracy: 0.9272 - val_loss: 0.1283 - val_accuracy: 0.9425\n",
            "Epoch 19/30\n",
            "240/240 [==============================] - 4s 16ms/step - loss: 0.1661 - accuracy: 0.9233 - val_loss: 0.1243 - val_accuracy: 0.9488\n",
            "Epoch 20/30\n",
            "240/240 [==============================] - 4s 16ms/step - loss: 0.1444 - accuracy: 0.9339 - val_loss: 0.1438 - val_accuracy: 0.9269\n",
            "Epoch 21/30\n",
            "240/240 [==============================] - 4s 16ms/step - loss: 0.1439 - accuracy: 0.9374 - val_loss: 0.0977 - val_accuracy: 0.9551\n",
            "Epoch 22/30\n",
            "240/240 [==============================] - 4s 16ms/step - loss: 0.1576 - accuracy: 0.9303 - val_loss: 0.1272 - val_accuracy: 0.9394\n",
            "Epoch 23/30\n",
            "240/240 [==============================] - 4s 18ms/step - loss: 0.1453 - accuracy: 0.9363 - val_loss: 0.0978 - val_accuracy: 0.9572\n",
            "Epoch 24/30\n",
            "240/240 [==============================] - 4s 16ms/step - loss: 0.1508 - accuracy: 0.9308 - val_loss: 0.1259 - val_accuracy: 0.9415\n",
            "Epoch 25/30\n",
            "240/240 [==============================] - 4s 15ms/step - loss: 0.1636 - accuracy: 0.9313 - val_loss: 0.1026 - val_accuracy: 0.9551\n",
            "Epoch 26/30\n",
            "240/240 [==============================] - 4s 17ms/step - loss: 0.1305 - accuracy: 0.9445 - val_loss: 0.0950 - val_accuracy: 0.9603\n",
            "Epoch 27/30\n",
            "240/240 [==============================] - 6s 23ms/step - loss: 0.1482 - accuracy: 0.9360 - val_loss: 0.1133 - val_accuracy: 0.9467\n",
            "Epoch 28/30\n",
            "240/240 [==============================] - 4s 16ms/step - loss: 0.1302 - accuracy: 0.9432 - val_loss: 0.1144 - val_accuracy: 0.9446\n",
            "Epoch 29/30\n",
            "240/240 [==============================] - 4s 18ms/step - loss: 0.1236 - accuracy: 0.9462 - val_loss: 0.1078 - val_accuracy: 0.9446\n",
            "Epoch 30/30\n",
            "240/240 [==============================] - 4s 17ms/step - loss: 0.1319 - accuracy: 0.9450 - val_loss: 0.0756 - val_accuracy: 0.9697\n",
            "30/30 [==============================] - 0s 6ms/step - loss: 0.1370 - accuracy: 0.9436\n",
            "Test accuracy: 0.9435736536979675\n"
          ]
        }
      ]
    },
    {
      "cell_type": "code",
      "source": [
        "from keras import models, layers\n",
        "from keras.optimizers import SGD\n",
        "\n",
        "# Assuming X_train, X_val, y_train, y_val, X_test, y_test are already defined\n",
        "\n",
        "model = models.Sequential()\n",
        "model.add(layers.Input(shape=(409, 1)))\n",
        "model.add(layers.Conv1D(filters=256, kernel_size=2, activation='relu'))\n",
        "model.add(layers.Dropout(0.2))\n",
        "model.add(layers.Conv1D(filters=256, kernel_size=2, activation='relu'))\n",
        "model.add(layers.Dropout(0.2))\n",
        "model.add(layers.Conv1D(filters=128, kernel_size=2, activation='relu'))\n",
        "model.add(layers.Dropout(0.2))\n",
        "model.add(layers.Conv1D(filters=128, kernel_size=2, activation='relu'))\n",
        "model.add(layers.Dropout(0.2))\n",
        "model.add(layers.Conv1D(filters=64, kernel_size=2, activation='relu'))\n",
        "model.add(layers.Dropout(0.2))\n",
        "model.add(layers.Conv1D(filters=64, kernel_size=2, activation='relu'))\n",
        "model.add(layers.Dropout(0.2))\n",
        "model.add(layers.Conv1D(filters=64, kernel_size=2, activation='relu'))\n",
        "model.add(layers.Flatten())\n",
        "model.add(layers.Dense(32, activation='relu'))\n",
        "model.add(layers.Dense(7656,))\n",
        "model.add(layers.Dense(1, activation='sigmoid'))\n",
        "\n",
        "model.compile(optimizer=Adam(lr=0.00001), loss='binary_crossentropy', metrics=['accuracy'])\n",
        "history = model.fit(X_train, y_train, epochs=30, validation_data=(X_val, y_val))\n",
        "test_loss, test_accuracy = model.evaluate(X_test, y_test)\n",
        "print(f\"Test accuracy: {test_accuracy}\")\n"
      ],
      "metadata": {
        "id": "XDABRepXcCQw",
        "colab": {
          "base_uri": "https://localhost:8080/"
        },
        "outputId": "e27c4127-a174-4894-ed1c-7c6f5627977d"
      },
      "execution_count": 50,
      "outputs": [
        {
          "output_type": "stream",
          "name": "stderr",
          "text": [
            "WARNING:absl:`lr` is deprecated in Keras optimizer, please use `learning_rate` or use the legacy optimizer, e.g.,tf.keras.optimizers.legacy.Adam.\n"
          ]
        },
        {
          "output_type": "stream",
          "name": "stdout",
          "text": [
            "Epoch 1/30\n",
            "240/240 [==============================] - 7s 17ms/step - loss: 0.4210 - accuracy: 0.7841 - val_loss: 0.4157 - val_accuracy: 0.8004\n",
            "Epoch 2/30\n",
            "240/240 [==============================] - 4s 16ms/step - loss: 0.3300 - accuracy: 0.8399 - val_loss: 0.2703 - val_accuracy: 0.8652\n",
            "Epoch 3/30\n",
            "240/240 [==============================] - 4s 16ms/step - loss: 0.2733 - accuracy: 0.8691 - val_loss: 0.3009 - val_accuracy: 0.8516\n",
            "Epoch 4/30\n",
            "240/240 [==============================] - 4s 16ms/step - loss: 0.2540 - accuracy: 0.8775 - val_loss: 0.2383 - val_accuracy: 0.8767\n",
            "Epoch 5/30\n",
            "240/240 [==============================] - 4s 15ms/step - loss: 0.2517 - accuracy: 0.8775 - val_loss: 0.3086 - val_accuracy: 0.8433\n",
            "Epoch 6/30\n",
            "240/240 [==============================] - 4s 17ms/step - loss: 0.2946 - accuracy: 0.8621 - val_loss: 0.2472 - val_accuracy: 0.8746\n",
            "Epoch 7/30\n",
            "240/240 [==============================] - 4s 16ms/step - loss: 0.2411 - accuracy: 0.8821 - val_loss: 0.1979 - val_accuracy: 0.9028\n",
            "Epoch 8/30\n",
            "240/240 [==============================] - 4s 16ms/step - loss: 0.2513 - accuracy: 0.8819 - val_loss: 0.2553 - val_accuracy: 0.8757\n",
            "Epoch 9/30\n",
            "240/240 [==============================] - 4s 17ms/step - loss: 0.2177 - accuracy: 0.8939 - val_loss: 0.1980 - val_accuracy: 0.9070\n",
            "Epoch 10/30\n",
            "240/240 [==============================] - 4s 17ms/step - loss: 0.2012 - accuracy: 0.9030 - val_loss: 0.2030 - val_accuracy: 0.9049\n",
            "Epoch 11/30\n",
            "240/240 [==============================] - 4s 17ms/step - loss: 0.1962 - accuracy: 0.9046 - val_loss: 0.1505 - val_accuracy: 0.9342\n",
            "Epoch 12/30\n",
            "240/240 [==============================] - 4s 16ms/step - loss: 0.2042 - accuracy: 0.9036 - val_loss: 0.1843 - val_accuracy: 0.9018\n",
            "Epoch 13/30\n",
            "240/240 [==============================] - 4s 17ms/step - loss: 0.2109 - accuracy: 0.8980 - val_loss: 0.2027 - val_accuracy: 0.9060\n",
            "Epoch 14/30\n",
            "240/240 [==============================] - 4s 17ms/step - loss: 0.2088 - accuracy: 0.9027 - val_loss: 0.1807 - val_accuracy: 0.9060\n",
            "Epoch 15/30\n",
            "240/240 [==============================] - 4s 16ms/step - loss: 0.1946 - accuracy: 0.9074 - val_loss: 0.1686 - val_accuracy: 0.9122\n",
            "Epoch 16/30\n",
            "240/240 [==============================] - 4s 17ms/step - loss: 0.1987 - accuracy: 0.9061 - val_loss: 0.1729 - val_accuracy: 0.9164\n",
            "Epoch 17/30\n",
            "240/240 [==============================] - 4s 17ms/step - loss: 0.1801 - accuracy: 0.9133 - val_loss: 0.1439 - val_accuracy: 0.9352\n",
            "Epoch 18/30\n",
            "240/240 [==============================] - 4s 16ms/step - loss: 0.2061 - accuracy: 0.9039 - val_loss: 0.1530 - val_accuracy: 0.9175\n",
            "Epoch 19/30\n",
            "240/240 [==============================] - 4s 16ms/step - loss: 0.1677 - accuracy: 0.9203 - val_loss: 0.1904 - val_accuracy: 0.9133\n",
            "Epoch 20/30\n",
            "240/240 [==============================] - 4s 17ms/step - loss: 0.1653 - accuracy: 0.9228 - val_loss: 0.1291 - val_accuracy: 0.9436\n",
            "Epoch 21/30\n",
            "240/240 [==============================] - 4s 16ms/step - loss: 0.1615 - accuracy: 0.9227 - val_loss: 0.1440 - val_accuracy: 0.9279\n",
            "Epoch 22/30\n",
            "240/240 [==============================] - 4s 16ms/step - loss: 0.1762 - accuracy: 0.9210 - val_loss: 0.1492 - val_accuracy: 0.9185\n",
            "Epoch 23/30\n",
            "240/240 [==============================] - 4s 17ms/step - loss: 0.1583 - accuracy: 0.9262 - val_loss: 0.1416 - val_accuracy: 0.9342\n",
            "Epoch 24/30\n",
            "240/240 [==============================] - 4s 17ms/step - loss: 0.2017 - accuracy: 0.9148 - val_loss: 0.1274 - val_accuracy: 0.9342\n",
            "Epoch 25/30\n",
            "240/240 [==============================] - 4s 16ms/step - loss: 0.1682 - accuracy: 0.9227 - val_loss: 0.1407 - val_accuracy: 0.9363\n",
            "Epoch 26/30\n",
            "240/240 [==============================] - 4s 16ms/step - loss: 0.1654 - accuracy: 0.9254 - val_loss: 0.1580 - val_accuracy: 0.9185\n",
            "Epoch 27/30\n",
            "240/240 [==============================] - 4s 18ms/step - loss: 0.1471 - accuracy: 0.9318 - val_loss: 0.1418 - val_accuracy: 0.9269\n",
            "Epoch 28/30\n",
            "240/240 [==============================] - 4s 16ms/step - loss: 0.1691 - accuracy: 0.9242 - val_loss: 0.1699 - val_accuracy: 0.9175\n",
            "Epoch 29/30\n",
            "240/240 [==============================] - 4s 16ms/step - loss: 0.1452 - accuracy: 0.9335 - val_loss: 0.1080 - val_accuracy: 0.9561\n",
            "Epoch 30/30\n",
            "240/240 [==============================] - 4s 17ms/step - loss: 0.1378 - accuracy: 0.9398 - val_loss: 0.0950 - val_accuracy: 0.9613\n",
            "30/30 [==============================] - 0s 8ms/step - loss: 0.1362 - accuracy: 0.9404\n",
            "Test accuracy: 0.9404388666152954\n"
          ]
        }
      ]
    },
    {
      "cell_type": "code",
      "source": [
        "# plt.plot(l_arrays[0], label=\"lensed\", color=\"blue\")\n",
        "# plt.plot(u_arrays[0],label=\"unlensed\", color=\"red\")\n",
        "# plt.xlabel(\"Time\")\n",
        "# plt.ylabel(\"Strain\")\n",
        "# plt.legend()"
      ],
      "metadata": {
        "id": "II184U0scGpz"
      },
      "execution_count": null,
      "outputs": []
    },
    {
      "cell_type": "code",
      "source": [
        "y_train.shape"
      ],
      "metadata": {
        "id": "Ci4JiAV_9pfg",
        "colab": {
          "base_uri": "https://localhost:8080/"
        },
        "outputId": "2c886dc5-9d9a-4e7c-f3a8-e1ec1adca76e"
      },
      "execution_count": 49,
      "outputs": [
        {
          "output_type": "execute_result",
          "data": {
            "text/plain": [
              "(7656,)"
            ]
          },
          "metadata": {},
          "execution_count": 49
        }
      ]
    },
    {
      "cell_type": "code",
      "source": [],
      "metadata": {
        "id": "WAuUcdh-HNGA"
      },
      "execution_count": null,
      "outputs": []
    }
  ]
}